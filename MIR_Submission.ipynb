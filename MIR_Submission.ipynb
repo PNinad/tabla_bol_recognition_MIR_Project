{
 "cells": [
  {
   "cell_type": "markdown",
   "metadata": {},
   "source": [
    "# Tabla bol recognition\n",
    "by Błażej Kotowski (blazej.kotowski@upf.edu) and Ninad Puranik (ninad.puranik01@estudiant.upf.edu)\n",
    "\n",
    "### Task definition\n",
    "The tabla is a pair of drums known as ‘tabla’ and ‘bayan’ commonly used in accompaniment\n",
    "and solo performances in Indian Music. A variety of sounds can be produced using different\n",
    "kinds of strokes on the tabla-bayan. A mnemonic syllable or bol is associated with each of\n",
    "these strokes. We address the problem of recognizing the bol performed in an audio\n",
    "recording of a tabla solo performance with a harmonium accompaniment. We use a\n",
    "supervised learning approach to classify the ‘bols’ using the timbral features of audio and the\n",
    "manual annotations from the compmusic tabla-solo dataset.\n",
    "\n",
    "### Dataset\n",
    "Tabla Solo dataset: https://compmusic.upf.edu/tabla-solo-dataset\n",
    "\n",
    "\n",
    "# Implementation"
   ]
  },
  {
   "cell_type": "code",
   "execution_count": 36,
   "metadata": {},
   "outputs": [],
   "source": [
    "import numpy as np\n",
    "import essentia.standard as estd\n",
    "import essentia as ess\n",
    "import scipy\n",
    "import pandas as pd\n",
    "import csv\n",
    "import re\n",
    "import os\n",
    "import IPython.display as ipd\n",
    "import tempfile\n",
    "import random\n",
    "from sklearn.neighbors import KNeighborsClassifier\n",
    "from sklearn import svm\n",
    "from sklearn.tree import DecisionTreeClassifier\n",
    "from sklearn.metrics import confusion_matrix, classification_report\n",
    "from sklearn.feature_selection import SelectKBest, chi2\n",
    "from sklearn.model_selection import train_test_split, KFold, GridSearchCV\n",
    "from sklearn.preprocessing import MinMaxScaler\n",
    "import seaborn as sns\n",
    "import matplotlib.pyplot as plt\n",
    "import sys\n",
    "sns.set()\n",
    "JUP_STDOUT = sys.stdout"
   ]
  },
  {
   "cell_type": "markdown",
   "metadata": {},
   "source": [
    "# Dataset definition\n",
    "In this cell we are setting dataset related parameters. These include:\n",
    "- location of the dataset,\n",
    "- results location,\n",
    "- bols available in the dataset\n",
    "\n",
    "They should be modified according to the local machine configuration and used dataset."
   ]
  },
  {
   "cell_type": "code",
   "execution_count": 4,
   "metadata": {},
   "outputs": [],
   "source": [
    "# Set base directory where the dataset is located\n",
    "dataset_root = \"./tabla_solo_1.0\"\n",
    "\n",
    "# Define the rest of paths\n",
    "filelist_path = os.path.join(dataset_root, 'filelist.txt')\n",
    "audio_files_path = os.path.join(dataset_root, \"wav\")\n",
    "annotation_files_path = os.path.join(dataset_root, \"onsMap\")\n",
    "\n",
    "# Filename for features to be saved and loaded from\n",
    "features_filename = \"extracted_features_huge.csv\"\n",
    "\n",
    "# Path for classifier outputs \n",
    "results_path = \"./results\"\n",
    "\n",
    "# List of all possible bols\n",
    "BOL_NAMES = ['DA', 'KI', 'GE', 'TA', 'NA', 'DIN', 'KDA', 'TIT', 'DHA', \n",
    "        'DHE', 'DHET', 'DHI', 'DHIN', 'RE', 'TE', 'TII', 'TIN', 'TRA']\n",
    "\n",
    "# Collect list of datafiles\n",
    "filenames = [line.rstrip('\\n') for line in open(filelist_path)]"
   ]
  },
  {
   "cell_type": "markdown",
   "metadata": {},
   "source": [
    "# Feature extraction\n",
    "### Steps\n",
    "1. First we are using Essentia's Extractor class to extract all low-level features using frameSize of 1024 and hopSize of 512. Then we aggregate them using PoolAggregator and transform vectors of length N to N single-value fields.\n",
    "2. Next we perform MFCCs extraction using Essentia's built-in extractor with analysis parameters of well-estabilished HTK toolkit. \n",
    "3. We calculate the MFCC derivatives of first end second order (velocity and acceleration)\n",
    "4. We then merge all the features into single Pool.\n"
   ]
  },
  {
   "cell_type": "code",
   "execution_count": 80,
   "metadata": {},
   "outputs": [],
   "source": [
    "def flatten_pool(pool):\n",
    "    '''\n",
    "    For each enumerable feature in a pool, create separate field for each value\n",
    "    '''\n",
    "    for feature in pool.descriptorNames():\n",
    "        if hasattr(pool[feature], '__iter__'):\n",
    "            values_list = pool[feature]\n",
    "            pool.remove(feature)\n",
    "            for i, elem in enumerate(values_list):\n",
    "                pool.set(\"{}.{}\".format(feature,i), elem)\n",
    "    return pool\n",
    "\n",
    "\n",
    "def extract_mfccs(audio_frame):\n",
    "    '''\n",
    "    Extracts mean mfcss from given audio frame. Mimicks behavior of HTK.\n",
    "    \n",
    "    Arguments:\n",
    "        - audio_frame:[float] - audio frame\n",
    "    Returns:\n",
    "        - result:dictionary – a dictionary of calculated mean mfccs\n",
    "    '''\n",
    "    # HTK-like parameters for MFCC\n",
    "    mfcc_extractor = estd.MFCC(\n",
    "        type = 'magnitude',\n",
    "        warpingFormula = 'htkMel',\n",
    "        weighting = 'linear',\n",
    "        highFrequencyBound = 8000,\n",
    "        numberBands = 26,\n",
    "        numberCoefficients = 13,\n",
    "        normalize = 'unit_max',\n",
    "        dctType = 3,\n",
    "        logType = 'log',\n",
    "        liftering = 22\n",
    "    )\n",
    "    \n",
    "    # HTK-like Parameters for FrameGenerator\n",
    "    frame_generator = estd.FrameGenerator(\n",
    "        audio_frame,\n",
    "        frameSize = 1102,\n",
    "        hopSize = 441,\n",
    "        startFromZero = True,\n",
    "        validFrameThresholdRatio = 1\n",
    "    )\n",
    "    \n",
    "    # HTK-like parameters for windowing\n",
    "    window = estd.Windowing(\n",
    "        type = 'hamming',\n",
    "        size = 1102,\n",
    "        zeroPadding = 946,\n",
    "        normalized = False\n",
    "    )\n",
    "    \n",
    "    spectrum = estd.Spectrum()\n",
    "    \n",
    "    features = ess.Pool()\n",
    "    mfccs = []\n",
    "    for frame in frame_generator:\n",
    "        spec = spectrum(window(frame))\n",
    "        _, mfcc_coeffs = mfcc_extractor(spec)\n",
    "        mfccs.append(mfcc_coeffs)\n",
    "\n",
    "    mfccs = np.array(mfccs).T\n",
    "    \n",
    "    for band_id, coeffs in enumerate(mfccs):\n",
    "        for coeff in coeffs:\n",
    "            features.add(\"htk_mfcc.%d\" % band_id, coeff)    \n",
    "        \n",
    "#     # Calculate mfccs derivatives (velocity and acceleration)\n",
    "#     mfccs_delta = np.diff(mfccs)\n",
    "#     mfccs_delta_delta = np.diff(mfccs_delta)\n",
    "#     mfccs_dict = {\n",
    "#       'htk_mfccs': mfccs,\n",
    "#       'htk_mfccs_delta': mfccs_delta,\n",
    "#       'htk_mfccs_delta_delta': mfccs_delta_delta\n",
    "#     }\n",
    "    \n",
    "#     for feature, mfccs in mfccs_dict.items():\n",
    "#        for band_id, coeffs in enumerate(mfccs):\n",
    "#            for coeff in coeffs:\n",
    "#                features.add(\"%s.%d\" % (feature, band_id), coeff)\n",
    "\n",
    "    # Pool aggregation\n",
    "    aggregated = estd.PoolAggregator(defaultStats=['mean','var','dmean','dvar','dmean2','dvar2'])(features)\n",
    "    return aggregated\n",
    "    return features\n",
    "    \n",
    "    \n",
    "def extract_features(audio_frame):\n",
    "    '''\n",
    "    Extracts multiple features using Essentia's Extractor\n",
    "    \n",
    "    Arguments:\n",
    "        - audio_frame:[float] - audio frame\n",
    "    Returns:\n",
    "        - results:pool – Essentia's pool datastructure with aggregated features\n",
    "    '''\n",
    "    extractor = estd.Extractor(highLevel=False, \n",
    "                    midLevel=False,\n",
    "                    relativeIoi=False,\n",
    "                    rhythm=False,\n",
    "                    tuning=False,\n",
    "                    lowLevelFrameSize=1024,\n",
    "                    lowLevelHopSize = 512,\n",
    "                   )\n",
    "    \n",
    "    pool = extractor(audio_frame)\n",
    "    \n",
    "    pool_aggregator = estd.PoolAggregator(defaultStats=['mean','var','dmean','dvar','dmean2','dvar2'])\n",
    "    return flatten_pool(pool_aggregator(pool))\n",
    "\n",
    "\n",
    "def analyse_file(fname, slice_length=100, skip_length=0):\n",
    "    '''\n",
    "    Analyses the file at give filepath\n",
    "    \n",
    "    Arguments:\n",
    "        - fname:path - path to the filename\n",
    "        - slice_length:float - length of a bol slice in ms\n",
    "        - skip_start:float - length of bol beginning to skip in ms\n",
    "    Returns:\n",
    "        - result:[pool] - list of Essentia's pools with extracted features for each bol\n",
    "    '''\n",
    "    fs = 44100\n",
    "    \n",
    "    # Calculate parameters\n",
    "    frame_size = int(slice_length*fs/1000)\n",
    "    skip_samples = int(skip_length*fs/1000)\n",
    "    \n",
    "    # Load audio\n",
    "    audio_file = os.path.join(audio_files_path, fname+'.wav')\n",
    "    audio = estd.MonoLoader(filename=audio_file)()\n",
    "\n",
    "    # Load annotation\n",
    "    annotation_file = os.path.join(annotation_files_path, fname+'.csv')\n",
    "    df = pd.read_csv(annotation_file, header=None)\n",
    "    \n",
    "    # Extract features\n",
    "    bols = []\n",
    "    bols_number = {}\n",
    "    for item in df.itertuples(index=False):\n",
    "        timestamp = item[0]\n",
    "        \n",
    "        # 'Class'\n",
    "        bol_name = item[1].strip()\n",
    "        bol_id = BOL_NAMES.index(bol_name)\n",
    "        if bol_id not in bols_number:\n",
    "            bols_number[bol_id] = 0\n",
    "        bols_number[bol_id] += 1\n",
    "\n",
    "        start_frame = int(np.round(timestamp*fs)) + skip_samples\n",
    "        end_frame = start_frame + frame_size\n",
    "        audio_slice = audio[start_frame : end_frame]\n",
    "        \n",
    "        extractor_pool = extract_features(audio_slice)\n",
    "        mfcc_pool = extract_mfccs(audio_slice)\n",
    "        extractor_pool.merge(mfcc_pool)\n",
    "        extractor_pool.set('bol_id', bol_id)\n",
    "        \n",
    "        bols.append(extractor_pool)\n",
    "        \n",
    "    return bols\n",
    "        "
   ]
  },
  {
   "cell_type": "markdown",
   "metadata": {},
   "source": [
    "## Perform extraction\n",
    "We are separating bols from audio using annotation data. We cut arbitrary selected 100ms of audio, starting from the annotated onset of a given bol. Such audio slice we treat as a representation of annotated bol from which we extract features. "
   ]
  },
  {
   "cell_type": "code",
   "execution_count": 96,
   "metadata": {
    "scrolled": false
   },
   "outputs": [],
   "source": [
    "# Extract all features\n",
    "slice_length = 100 # ms\n",
    "skip_length = 0 # ms\n",
    "pools = []\n",
    "for fname in filenames:\n",
    "    pools += analyse_file(fname, slice_length, skip_length)"
   ]
  },
  {
   "cell_type": "markdown",
   "metadata": {},
   "source": [
    "## Export features to a file\n",
    "We are saving features to CSV file in order to avoid the necessity of repeating time-consuming and computationally expensive operation of extracting the features. There are some frames that caused problems during analysis, however the number was neglectable in the scope of our task. Essentia doesn't provide any method of generating CSV from pool, so we had to implement the method ourselves."
   ]
  },
  {
   "cell_type": "code",
   "execution_count": 95,
   "metadata": {},
   "outputs": [
    {
     "name": "stdout",
     "output_type": "stream",
     "text": [
      ".................................................................................................................................................................................................................................................................................................................................................................................................................................................................................................................................................................................................................................................................................................................................................................................................................................................................................................................................................................................................................................................................................................................................................................................................................................................................................................................................................................................................................................................................................................................................................................................................................................................................................................................................................................................................................................................................................................................................................................................................................................................................................................................................................................................................................................................................................................................................................................................................................................................................................................................................................................................................................................................................................................................................................................................................................................................................................................................................................................................................................................................................................................................................................................................................................................................................................................................................................................................................................................................................................................................................................................................................................................................................................................................................................................................................................................................................................................................................................................................................................................................................................................................................................................................................................................................................................................................................................................................................................................................................................................................................................................................................................................................................................................................................................................................................................................................................................................................................................................................................................................................................................................................................................................................................................................................................................................................................................................................................................................................................................................................................................................................................................................................................................................................................................................................................................................................................................................................................................................................................................................................................................................................................................................................................................................................................................................................................................................................................................................................................................................................................................................................................................................................................................................................................................................................................................................................................................................................................................................................................................................................................................................................................................................................................................................................................................................................................................................................................................................................................................................................................................................................................................................................................................................................................................................................................................................................................................................................................................................................................................................................................................................................................................................................................................................................................................................................................................................................................................................................................................................................................."
     ]
    },
    {
     "name": "stdout",
     "output_type": "stream",
     "text": [
      "...................................................Saved features to extracted_features_huge.csv. There was a problem with 1 out of 8245 frames.\n"
     ]
    }
   ],
   "source": [
    "# Save features to CSV file\n",
    "attributes = pools[0].descriptorNames()\n",
    "problematic_frames = 0\n",
    "with open(features_filename, \"w\") as file:\n",
    "    file.write(\",\".join(attributes) + \"\\n\")\n",
    "    attributes.remove('bol_id')\n",
    "    for pool in pools:\n",
    "        print(\".\", end=\"\")\n",
    "        try:\n",
    "            bol_name = BOL_NAMES[int(pool['bol_id'])]\n",
    "            vals = [bol_name]\n",
    "            vals += ([pool[attribute] for attribute in attributes])\n",
    "            file.write(\",\".join([str(item) for item in vals])+\"\\n\")\n",
    "        except KeyError:\n",
    "            problematic_frames += 1\n",
    "            \n",
    "print(\"Saved features to %s. There was a problem with %d out of %d frames.\" % (features_filename, problematic_frames, len(pools)))"
   ]
  },
  {
   "cell_type": "markdown",
   "metadata": {},
   "source": [
    "## Load features\n",
    "We are loading the extracted features from the file. We decided to use Pandas for further analysis."
   ]
  },
  {
   "cell_type": "code",
   "execution_count": 7,
   "metadata": {},
   "outputs": [],
   "source": [
    "# Convert 'NA' syllable back to 'NA' (Pandas converts NA values to NaN)\n",
    "df = pd.read_csv(features_filename, converters={'bol_id': lambda x: str(x)})"
   ]
  },
  {
   "cell_type": "markdown",
   "metadata": {},
   "source": [
    "## Generate representation plot\n",
    "We are plotting the number of samples for each bol in the given dataset."
   ]
  },
  {
   "cell_type": "code",
   "execution_count": 11,
   "metadata": {},
   "outputs": [
    {
     "data": {
      "image/png": "[encoded data removed]",
      "text/plain": [
       "<Figure size 1440x720 with 1 Axes>"
      ]
     },
     "metadata": {
      "needs_background": "light"
     },
     "output_type": "display_data"
    }
   ],
   "source": [
    "# For statistical purposes\n",
    "bols_number = {}\n",
    "for name in BOL_NAMES:\n",
    "    bols_number[name] = len(df[df['bol_id'] == name])\n",
    "    \n",
    "x_bols = np.arange(len(bols_number))\n",
    "y_bols = bols_number.values()\n",
    "\n",
    "fig = plt.figure(figsize=(20,10))\n",
    "\n",
    "barplot = plt.bar(x_bols, y_bols)\n",
    "plt.xticks(x_bols, BOL_NAMES, rotation=45, fontsize=14)\n",
    "plt.yticks([])\n",
    "for i, v in enumerate(y_bols):\n",
    "    plt.text(i-.25, v+30, str(v), fontsize=14)\n",
    "plt.show()\n",
    "\n",
    "fig.savefig(os.path.join(results_path, \"dataset_representation.pdf\"))"
   ]
  },
  {
   "cell_type": "markdown",
   "metadata": {},
   "source": [
    "# Classification\n",
    "We are providing a training and evaluation framework based of scikit-learn. We are then testing performance of different feature sets in combination with different classifiers.\n",
    "### Feature sets we are considering include:\n",
    "- All the features available,\n",
    "- Only MFCCs extracted by Essentia's Extractor class,\n",
    "- Only MFCCs extracted with custom, HTK-based extraction method, together with their derivatives,\n",
    "- All the features excluding MFCC extracted by Essentia's Extractor class.\n",
    "\n",
    "### Classifiers we are testing include:\n",
    "- K-Nearest Neighbour\n",
    "- Support Vector Machine with PolyKernel and gamma scaling\n",
    "- Decision Tree\n",
    "\n",
    "### Training / Testing split\n",
    "1. We are keeping 10% of our data just for testing.\n",
    "2. With the remaining 90% we traing our classifier and perform 10-fold cross validation.\n",
    "3. With a trained classifier perform final classification test and report using following metrics:\n",
    "    - confusion matrix\n",
    "    - precision\n",
    "    - recall\n",
    "    - f1-score\n",
    "    - support\n",
    "    - averages and weighted averages of all mentioned metrics\n",
    "\n",
    "## Training classifiers"
   ]
  },
  {
   "cell_type": "code",
   "execution_count": 7,
   "metadata": {},
   "outputs": [],
   "source": [
    "def print_confusion_matrix(confusion_matrix, class_names, figsize = (10,7), fontsize=11):\n",
    "    \"\"\"Prints a confusion matrix, as returned by sklearn.metrics.confusion_matrix, as a heatmap.\n",
    "    \n",
    "    Arguments\n",
    "    ---------\n",
    "    confusion_matrix: numpy.ndarray\n",
    "        The numpy.ndarray object returned from a call to sklearn.metrics.confusion_matrix. \n",
    "        Similarly constructed ndarrays can also be used.\n",
    "    class_names: list\n",
    "        An ordered list of class names, in the order they index the given confusion matrix.\n",
    "    figsize: tuple\n",
    "        A 2-long tuple, the first value determining the horizontal size of the ouputted figure,\n",
    "        the second determining the vertical size. Defaults to (10,7).\n",
    "    fontsize: int\n",
    "        Font size for axes labels. Defaults to 11.\n",
    "        \n",
    "    Returns\n",
    "    -------\n",
    "    matplotlib.figure.Figure\n",
    "        The resulting confusion matrix figure\n",
    "    \"\"\"\n",
    "    df_cm = pd.DataFrame(\n",
    "        confusion_matrix, index=class_names, columns=class_names, \n",
    "    )\n",
    "    fig = plt.figure(figsize=figsize)\n",
    "    try:\n",
    "        heatmap = sns.heatmap(df_cm, annot=True, fmt=\"d\")\n",
    "    except ValueError:\n",
    "        raise ValueError(\"Confusion matrix values must be integers.\")\n",
    "    heatmap.yaxis.set_ticklabels(heatmap.yaxis.get_ticklabels(), rotation=0, ha='right', fontsize=fontsize)\n",
    "    heatmap.xaxis.set_ticklabels(heatmap.xaxis.get_ticklabels(), rotation=45, ha='center', fontsize=fontsize)\n",
    "    plt.ylabel('True label')\n",
    "    plt.xlabel('Predicted label')\n",
    "    return fig"
   ]
  },
  {
   "cell_type": "code",
   "execution_count": 105,
   "metadata": {},
   "outputs": [],
   "source": [
    "def report(clf, X, y, clf_name, log_to_file=False):\n",
    "    if log_to_file:\n",
    "        # Create results directory if doesn't exist\n",
    "        try:  \n",
    "            os.mkdir(results_path)\n",
    "        except:\n",
    "            # Directory already exists\n",
    "            pass\n",
    "        # Redirect stdout\n",
    "        textfile = open(os.path.join(results_path, clf_name+'.txt'), 'w')\n",
    "        sys.stdout = textfile\n",
    "    \n",
    "    print(\"Results for %s classifier\\n\\n\" % clf_name)\n",
    "        \n",
    "    X_train, X_test, y_train, y_test = train_test_split(X, y, test_size=0.1, random_state=random.randint(0,10000))\n",
    "    k_fold = KFold(10)\n",
    "    print(\"----------------------------------------------------\")\n",
    "    print(\"10-fold validation results\\n\")\n",
    "    for k, (train, test) in enumerate(k_fold.split(X_train, y_train)):\n",
    "        clf.fit(X_train[train], y_train[train])\n",
    "        acc = clf.score(X_train[test], y_train[test])\n",
    "        print(\"Fold no %d: %f accuracy.\" % (k+1, acc))\n",
    "        \n",
    "    y_predict = clf.predict(X_test)\n",
    "    unique_classes = np.unique(list(y_test) +  list(y_predict))\n",
    "    class_names = [BOL_NAMES[class_id] for class_id in sorted(unique_classes)]\n",
    "    clf_report = classification_report(y_test, y_predict, target_names=class_names)\n",
    "    \n",
    "    print(\"----------------------------------------------------\")\n",
    "    print(\"\\nClassification report\\n\")\n",
    "    print(clf_report)\n",
    "    \n",
    "    # Calculate and save confusion matrix figure\n",
    "    cm = confusion_matrix(y_test, y_predict)\n",
    "    print(\"----------------------------------------------------\")\n",
    "    print(cm)\n",
    "    cmfig = print_confusion_matrix(cm, class_names)\n",
    "\n",
    "    if log_to_file:\n",
    "        cmfig.savefig(os.path.join(results_path, clf_name+'--cm.pdf'))\n",
    "        textfile.close()\n",
    "    sys.stdout = JUP_STDOUT"
   ]
  },
  {
   "cell_type": "code",
   "execution_count": 20,
   "metadata": {},
   "outputs": [],
   "source": [
    "# FEATURE SELECTION: Uncomment expected behavior\n",
    "\n",
    "all_columns = list(df.columns)\n",
    "all_columns.remove('bol_id')\n",
    "\n",
    "# All the columns\n",
    "fset_id = 'all'\n",
    "selected_columns = all_columns\n",
    "\n",
    "# Only automatically computed mfccs\n",
    "# fset_id = 'lowLevel.mfcc'\n",
    "# selected_columns = [column for column in all_columns if 'lowLevel.mfcc' in column]\n",
    "\n",
    "# Only htk MFCCs + derivatives\n",
    "# fset_id = 'htk_mfcc'\n",
    "# selected_columns = [column for column in all_columns if 'htk_mfcc' in column]\n",
    "\n",
    "# All features apart of automatically computed mfccs\n",
    "# fset_id = 'not-lowLevel.mfcc'\n",
    "# selected_columns = [column for column in all_columns if 'lowLevel.mfcc' not in column]\n",
    "\n",
    "# Get features matrix\n",
    "X = df[selected_columns].values\n",
    "# Extract classes\n",
    "y = df['bol_id'].values"
   ]
  },
  {
   "cell_type": "markdown",
   "metadata": {},
   "source": [
    "## Data normalization"
   ]
  },
  {
   "cell_type": "code",
   "execution_count": 21,
   "metadata": {},
   "outputs": [],
   "source": [
    "min_max_scaler = MinMaxScaler()\n",
    "X_norm = min_max_scaler.fit_transform(X)"
   ]
  },
  {
   "cell_type": "markdown",
   "metadata": {},
   "source": [
    "## Feature selction"
   ]
  },
  {
   "cell_type": "code",
   "execution_count": 34,
   "metadata": {},
   "outputs": [],
   "source": [
    "select_k_best = SelectKBest(chi2, k = 150)\n",
    "X_reduced = select_k_best.fit_transform(X_norm, y)\n",
    "\n",
    "# make a list of indices of the selected features and a list of tuples with the index and name of all\n",
    "# of the selected features\n",
    "indices = select_k_best.get_support(indices = True)\n",
    "descriptor_names = [(i, selected_columns[i]) for i in range(len(selected_columns))]\n",
    "descriptor_names = [(i, descriptor_names[i][1]) for i in range(len(indices))]\n",
    "descriptor_names = [c[1] for c in descriptor_names]"
   ]
  },
  {
   "cell_type": "markdown",
   "metadata": {},
   "source": [
    "## Grid search for best parameters of SVN"
   ]
  },
  {
   "cell_type": "code",
   "execution_count": null,
   "metadata": {},
   "outputs": [],
   "source": [
    "cs = np.logspace(-3, 2, 6)\n",
    "gammas = np.logspace(-3, 2, 6)\n",
    "kernels = ['linear', 'rbf', 'poly']\n",
    "param_grid = {'C': cs, 'gamma' : gammas, 'kernel': kernels}\n",
    "grid_search = GridSearchCV(svm.SVC(), param_grid, cv = 10)\n",
    "\n",
    "grid_search.fit(X_reduced, y)\n",
    "best_params = grid_search.best_params_"
   ]
  },
  {
   "cell_type": "markdown",
   "metadata": {},
   "source": [
    "## Strafified cross-validation for finding best C of SVN"
   ]
  },
  {
   "cell_type": "code",
   "execution_count": null,
   "metadata": {},
   "outputs": [],
   "source": [
    "svc = svm.SVC(kernel='poly', degree=3, gamma='scale')\n",
    "C_s = np.logspace(-10, 0, 10)\n",
    "scores = list()\n",
    "scores_std = list()\n",
    "for C in C_s:\n",
    "    svc.C = C\n",
    "    this_scores = cross_val_score(svc, X, y, cv=10, n_jobs=-1)\n",
    "    scores.append(np.mean(this_scores))\n",
    "    scores_std.append(np.std(this_scores))\n",
    "\n",
    "# Do the plotting\n",
    "plt.figure(1, figsize=(4, 3))\n",
    "plt.clf()\n",
    "plt.semilogx(C_s, scores)\n",
    "plt.semilogx(C_s, np.array(scores) + np.array(scores_std), 'b--')\n",
    "plt.semilogx(C_s, np.array(scores) - np.array(scores_std), 'b--')\n",
    "locs, labels = plt.yticks()\n",
    "plt.yticks(locs, list(map(lambda x: \"%g\" % x, locs)))\n",
    "plt.ylabel('CV score')\n",
    "plt.xlabel('Parameter C')\n",
    "plt.ylim(0, 1.1)\n",
    "plt.show()\n",
    "print(\"Best score %f founr for C equal to %f.\" % (max(scores), C_s[scores.index()]))"
   ]
  },
  {
   "cell_type": "markdown",
   "metadata": {},
   "source": [
    "## Generating reports"
   ]
  },
  {
   "cell_type": "code",
   "execution_count": 3,
   "metadata": {},
   "outputs": [],
   "source": [
    "# K-Nearest Neighbour\n",
    "knn_clf = KNeighborsClassifier()\n",
    "report(knn_clf, X, y, 'knn'+fset_id)"
   ]
  },
  {
   "cell_type": "code",
   "execution_count": 104,
   "metadata": {},
   "outputs": [
    {
     "ename": "NameError",
     "evalue": "name 'report' is not defined",
     "output_type": "error",
     "traceback": [
      "\u001b[0;31m---------------------------------------------------------------------------\u001b[0m",
      "\u001b[0;31mNameError\u001b[0m                                 Traceback (most recent call last)",
      "\u001b[0;32m<ipython-input-104-b71200caa451>\u001b[0m in \u001b[0;36m<module>\u001b[0;34m\u001b[0m\n\u001b[1;32m      1\u001b[0m \u001b[0;31m# Support Vector Machine\u001b[0m\u001b[0;34m\u001b[0m\u001b[0;34m\u001b[0m\u001b[0;34m\u001b[0m\u001b[0m\n\u001b[1;32m      2\u001b[0m \u001b[0msvm_clf\u001b[0m \u001b[0;34m=\u001b[0m \u001b[0msvm\u001b[0m\u001b[0;34m.\u001b[0m\u001b[0mSVC\u001b[0m\u001b[0;34m(\u001b[0m\u001b[0mkernel\u001b[0m\u001b[0;34m=\u001b[0m\u001b[0;34m'poly'\u001b[0m\u001b[0;34m,\u001b[0m \u001b[0mC\u001b[0m\u001b[0;34m=\u001b[0m\u001b[0;36m1\u001b[0m\u001b[0;34m,\u001b[0m \u001b[0mdegree\u001b[0m\u001b[0;34m=\u001b[0m\u001b[0;36m3\u001b[0m\u001b[0;34m,\u001b[0m \u001b[0mgamma\u001b[0m\u001b[0;34m=\u001b[0m\u001b[0;34m'scale'\u001b[0m\u001b[0;34m)\u001b[0m\u001b[0;34m\u001b[0m\u001b[0;34m\u001b[0m\u001b[0m\n\u001b[0;32m----> 3\u001b[0;31m \u001b[0mreport\u001b[0m\u001b[0;34m(\u001b[0m\u001b[0msvm_clf\u001b[0m\u001b[0;34m,\u001b[0m \u001b[0mX\u001b[0m\u001b[0;34m,\u001b[0m \u001b[0my\u001b[0m\u001b[0;34m,\u001b[0m \u001b[0;34m'svn--'\u001b[0m\u001b[0;34m+\u001b[0m\u001b[0mfset_id\u001b[0m\u001b[0;34m)\u001b[0m\u001b[0;34m\u001b[0m\u001b[0;34m\u001b[0m\u001b[0m\n\u001b[0m",
      "\u001b[0;31mNameError\u001b[0m: name 'report' is not defined"
     ]
    }
   ],
   "source": [
    "# Support Vector Machine\n",
    "svm_clf = svm.SVC(kernel='poly', C=1, degree=3, gamma='scale')\n",
    "report(svm_clf, X, y, 'svn--'+fset_id)"
   ]
  },
  {
   "cell_type": "code",
   "execution_count": 5,
   "metadata": {},
   "outputs": [],
   "source": [
    "# Descision tree\n",
    "tree = DecisionTreeClassifier()\n",
    "report(tree, X, y, 'tree--'+fset_id, log_to_file=True)"
   ]
  },
  {
   "cell_type": "markdown",
   "metadata": {},
   "source": [
    "# Conclusions\n",
    "- SVM is the best performing classifier for defined task.\n",
    "- Speech-oriented HTK parameters for MFCC extraction perform suprisingly well for tabla classification problem.\n",
    "- Adding temporal features (MFCC derivatives) may be very important for correct timbral classification.\n",
    "- Spectral features are those that matter the most in case of tabla bol recognition."
   ]
  },
  {
   "cell_type": "markdown",
   "metadata": {},
   "source": [
    "# Future work\n",
    "### Feature extraction\n",
    "- Harmonium could be separated from the audio using Harmonic / Residual model. This could possibly raise the quality of extracted features.\n",
    "\n",
    "### Classification\n",
    "- Feature selection techniques could be further explored.\n",
    "\n",
    "### Transcription\n",
    "- We could use onset detection coupled with this trained model to do an end-to end tabla transcription."
   ]
  },
  {
   "cell_type": "markdown",
   "metadata": {},
   "source": [
    "# References\n",
    "- S. Gupta, A. Srinivasamurthy, M. Kumar, H. A. Murthy, X. Serra. Discovery of Syllabic Percussion Patterns in Tabla Solo Recordings. In Proc. of the 16th International Society for Music Information Retrieval Conference (ISMIR), 2015. http://compmusic.upf.edu/ismir-2015-tabla\n",
    "- P. Chordia. Segmentation and recognition of tabla strokes. In Proc. of the 6th International Conference on Music Information Retrieval (ISMIR), pages 107–114, London, UK, September 2005. ​http://ismir2005.ismir.net/proceedings/1137.pdf"
   ]
  },
  {
   "cell_type": "code",
   "execution_count": null,
   "metadata": {},
   "outputs": [],
   "source": []
  }
 ],
 "metadata": {
  "kernelspec": {
   "display_name": "Python 3",
   "language": "python",
   "name": "python3"
  },
  "language_info": {
   "codemirror_mode": {
    "name": "ipython",
    "version": 3
   },
   "file_extension": ".py",
   "mimetype": "text/x-python",
   "name": "python",
   "nbconvert_exporter": "python",
   "pygments_lexer": "ipython3",
   "version": "3.7.2"
  }
 },
 "nbformat": 4,
 "nbformat_minor": 2
}
